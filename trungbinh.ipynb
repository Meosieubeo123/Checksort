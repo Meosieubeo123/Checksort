import time
import random
import matplotlib.pyplot as plt

def selection_sort(arr):
    # Thuật toán sắp xếp chọn
    for i in range(len(arr)):
        min_idx = i
        for j in range(i+1, len(arr)):
            if arr[j] < arr[min_idx]:
                min_idx = j
        arr[i], arr[min_idx] = arr[min_idx], arr[i]

def insertion_sort(arr):
    # Thuật toán sắp xếp chèn
    for i in range(1, len(arr)):
        key = arr[i]
        j = i - 1
        while j >= 0 and arr[j] > key:
            arr[j + 1] = arr[j]
            j -= 1
        arr[j + 1] = key

def bubble_sort(arr):
    # Thuật toán sắp xếp nổi bọt
    n = len(arr)
    for i in range(n):
        for j in range(0, n-i-1):
            if arr[j] > arr[j+1] :
                arr[j], arr[j+1] = arr[j+1], arr[j]

def quick_sort(arr):
    # Thuật toán sắp xếp nhanh
    if len(arr) <= 1:
        return arr
    pivot = arr[len(arr) // 2]
    left = [x for x in arr if x < pivot]
    middle = [x for x in arr if x == pivot]
    right = [x for x in arr if x > pivot]
    return quick_sort(left) + middle + quick_sort(right)

def merge_sort(arr):
    # Thuật toán sắp xếp trộn
    if len(arr) <= 1:
        return arr
    mid = len(arr) // 2
    left = arr[:mid]
    right = arr[mid:]
    left = merge_sort(left)
    right = merge_sort(right)
    return merge(left, right)

def merge(left, right):
    result = []
    i = j = 0
    while i < len(left) and j < len(right):
        if left[i] < right[j]:
            result.append(left[i])
            i += 1
        else:
            result.append(right[j])
            j += 1
    result.extend(left[i:])
    result.extend(right[j:])
    return result

def measure_time(algorithm, arr):
    start_time = time.time()
    algorithm(arr)
    end_time = time.time()
    return end_time - start_time

def plot_execution_time(n_values, selection_sort_times, insertion_sort_times, bubble_sort_times, quick_sort_times, merge_sort_times, n_labels):
    plt.plot(n_values, selection_sort_times, label='Selection Sort')
    plt.plot(n_values, insertion_sort_times, label='Insertion Sort')
    plt.plot(n_values, bubble_sort_times, label='Bubble Sort')
    plt.plot(n_values, quick_sort_times, label='Quick Sort')
    plt.plot(n_values, merge_sort_times, label='Merge Sort')
    plt.xticks(n_values, n_labels)
    plt.xlabel('Giá trị n')
    plt.ylabel('Thời gian thực thi (giây)')
    plt.title('Thời gian thực thi của các thuật toán sắp xếp')
    plt.legend()
    plt.show()

def main():
    # n_values = list(range(1, 100001, 1000))
    n_values = [1000, 5000, 10000, 15000, 25000, 35000, 50000, 75000, 100000]
    n_labels = ['1000', '5000', '10000', '15000', '25000', '35000', '50000', '75000', '100000']
    selection_sort_times = []
    insertion_sort_times = []
    bubble_sort_times = []
    quick_sort_times = []
    merge_sort_times = []

    for n in n_values:
        arr = random.sample(range(n), n)
        # arr = list(range(1, n+1))
        # arr = list(range(n, 0, -1))
        selection_sort_time = measure_time(selection_sort, arr.copy())
        insertion_sort_time = measure_time(insertion_sort, arr.copy())
        bubble_sort_time = measure_time(bubble_sort, arr.copy())
        quick_sort_time = measure_time(quick_sort, arr.copy())
        merge_sort_time = measure_time(merge_sort, arr.copy())

        selection_sort_times.append(selection_sort_time)
        insertion_sort_times.append(insertion_sort_time)
        bubble_sort_times.append(bubble_sort_time)
        quick_sort_times.append(quick_sort_time)
        merge_sort_times.append(merge_sort_time)

    plot_execution_time(n_values, selection_sort_times, insertion_sort_times, bubble_sort_times, quick_sort_times, merge_sort_times, n_labels)

if __name__ == '__main__':
    main()
